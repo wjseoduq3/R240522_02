{
 "cells": [
  {
   "cell_type": "code",
   "execution_count": 13,
   "id": "8dfbdce6-acd1-401d-9c15-0f4096dea196",
   "metadata": {},
   "outputs": [
    {
     "name": "stdout",
     "output_type": "stream",
     "text": [
      "305280\n",
      "424\n"
     ]
    }
   ],
   "source": [
    "import csv\n",
    "\n",
    "f1=open('D:/JDY_folder/jupyter_ws/databank/LOCAL_PEOPLE_DONG_202404.csv',encoding='utf-8')  # 파일 열기\n",
    "data1=csv.reader(f1)  # 파일 읽기\n",
    "f2=open('D:/JDY_folder/jupyter_ws/databank/dong_code.csv',encoding='utf-8')\n",
    "data2=csv.reader(f2)\n",
    "\n",
    "next(data1)  #표의 헤더 제거(제목 행)\n",
    "next(data2)\n",
    "next(data2)\n",
    "\n",
    "data1=list(data1)\n",
    "data2=list(data2)\n",
    "# print(data1)\n",
    "print(len(data1))\n",
    "print(len(data2))"
   ]
  },
  {
   "cell_type": "code",
   "execution_count": 16,
   "id": "0f6be17a-4e8a-4d1b-a091-8d0656d014c9",
   "metadata": {},
   "outputs": [
    {
     "name": "stdout",
     "output_type": "stream",
     "text": [
      "['20240401', 0, 11440585, 16690.3005, 489.5882, 241.8582, 321.79, 354.3263, 503.1719, 615.9802, 844.4646, 672.6632, 694.1532, 625.7739, 539.9884, 511.3507, 358.3801, 755.8019, 597.5131, 261.9923, 382.0919, 587.6027, 750.5231, 790.1085, 839.8785, 697.5542, 790.715, 636.1098, 619.397, 593.8115, 441.4222, 1172.2903, '']\n"
     ]
    }
   ],
   "source": [
    "## 숫자데이터로 변경\n",
    "\n",
    "for row in data1:\n",
    "    for i in range(1, 32):\n",
    "        if i<=2:\n",
    "            row[i]=int(row[i])\n",
    "        else:\n",
    "            row[i]=float(row[i])\n",
    "print(data1[0])"
   ]
  },
  {
   "cell_type": "code",
   "execution_count": 17,
   "id": "50abffe6-50e7-47dd-9110-f0ac2c02961e",
   "metadata": {},
   "outputs": [
    {
     "name": "stdout",
     "output_type": "stream",
     "text": [
      "['1101053', 11110530, '서울', '종로구', '사직동']\n"
     ]
    }
   ],
   "source": [
    "for row in data2:\n",
    "    row[1]=int(row[1])\n",
    "\n",
    "print(data2[0])"
   ]
  },
  {
   "cell_type": "code",
   "execution_count": 26,
   "id": "1cf6b741-e462-4e2a-af60-b6ee94732ad9",
   "metadata": {},
   "outputs": [
    {
     "name": "stdin",
     "output_type": "stream",
     "text": [
      "행정동명을 입력:  방배동\n"
     ]
    },
    {
     "name": "stdout",
     "output_type": "stream",
     "text": [
      "방배동 의 행정동코드는  11650540 입니다.\n"
     ]
    }
   ],
   "source": [
    "dong_name1=input('행정동명을 입력: ')\n",
    "\n",
    "for row in data2:\n",
    "    if row[-1]==dong_name1:\n",
    "        dong_code1=row[1]\n",
    "\n",
    "print(dong_name1, '의 행정동코드는 ', dong_code1, '입니다.')"
   ]
  },
  {
   "cell_type": "code",
   "execution_count": null,
   "id": "8164a862-01f9-4a9a-bcbb-fcf4e3781826",
   "metadata": {},
   "outputs": [],
   "source": [
    "# dong_name=[]\n",
    "# dong_code=[]\n",
    "# for row in data2:\n",
    "#     dong_name.append(row[-1])\n",
    "#     dong_code.append(row[1])\n",
    "# print(dong_name)\n",
    "# print(dong_code)\n",
    "# print(len(dong_name))\n",
    "# print(len(dong_code))"
   ]
  },
  {
   "cell_type": "code",
   "execution_count": 27,
   "id": "eccfa58b-4f5c-4586-8d6e-66f8981d721d",
   "metadata": {},
   "outputs": [
    {
     "name": "stdout",
     "output_type": "stream",
     "text": [
      "방배동 의 2024년 4월 총 생활인구수는 30492 명 입니다.\n"
     ]
    }
   ],
   "source": [
    "s=0\n",
    "\n",
    "for row in data:\n",
    "    if row[2]==dong_code1:\n",
    "        s+=row[3]\n",
    "\n",
    "print(dong_name1, '의 2024년 4월 총 생활인구수는', int(s/(30*24)),'명 입니다.')"
   ]
  },
  {
   "cell_type": "code",
   "execution_count": 37,
   "id": "060096b8-3fd6-445e-8724-792470ac09eb",
   "metadata": {},
   "outputs": [
    {
     "name": "stdin",
     "output_type": "stream",
     "text": [
      "행정동명을 입력:  잠원동\n"
     ]
    },
    {
     "name": "stdout",
     "output_type": "stream",
     "text": [
      "잠원동 의 행정동코드는  11650540 입니다.\n"
     ]
    },
    {
     "name": "stdin",
     "output_type": "stream",
     "text": [
      "행정동명을 입력:  방배본동\n"
     ]
    },
    {
     "name": "stdout",
     "output_type": "stream",
     "text": [
      "방배본동 의 행정동코드는  11650590 입니다.\n"
     ]
    }
   ],
   "source": [
    "dong_name1=input('행정동명을 입력: ')\n",
    "\n",
    "for row in data2:\n",
    "    if row[-1]==dong_name1:\n",
    "        dong_code1=row[1]\n",
    "\n",
    "print(dong_name1, '의 행정동코드는 ', dong_code1, '입니다.')\n",
    "\n",
    "# 비교대상\n",
    "dong_name2=input('행정동명을 입력: ')\n",
    "\n",
    "for row in data2:\n",
    "    if row[-1]==dong_name2:\n",
    "        dong_code2=row[1]\n",
    "\n",
    "print(dong_name2, '의 행정동코드는 ', dong_code2, '입니다.')"
   ]
  },
  {
   "cell_type": "code",
   "execution_count": 38,
   "id": "15dca3ff-5620-43fb-895a-e16fb5c94406",
   "metadata": {},
   "outputs": [
    {
     "name": "stdout",
     "output_type": "stream",
     "text": [
      "잠원동 의 2024년 4월 총 생활인구수는 30492 명 입니다.\n"
     ]
    }
   ],
   "source": [
    "s=0\n",
    "\n",
    "for row in data1:\n",
    "    if row[2]==dong_code1:\n",
    "        s+=row[3]\n",
    "\n",
    "print(dong_name1, '의 2024년 4월 총 생활인구수는', int(s/(30*24)),'명 입니다.')"
   ]
  },
  {
   "cell_type": "code",
   "execution_count": 39,
   "id": "5f75e5dc-3864-43c2-bda1-68d89528d38b",
   "metadata": {},
   "outputs": [
    {
     "name": "stdout",
     "output_type": "stream",
     "text": [
      "방배본동 의 2024년 4월 총 생활인구수는 16879 명 입니다.\n"
     ]
    }
   ],
   "source": [
    "s=0\n",
    "\n",
    "for row in data1:\n",
    "    if row[2]==dong_code2:\n",
    "        s+=row[3]\n",
    "\n",
    "print(dong_name2, '의 2024년 4월 총 생활인구수는', int(s/(30*24)),'명 입니다.')"
   ]
  },
  {
   "cell_type": "code",
   "execution_count": 36,
   "id": "3e71e095-0dd3-4cf6-a1f7-d1264a1b62f7",
   "metadata": {},
   "outputs": [
    {
     "name": "stdin",
     "output_type": "stream",
     "text": [
      "행정동명을 입력:  잠원동\n"
     ]
    },
    {
     "name": "stdout",
     "output_type": "stream",
     "text": [
      "잠원동 의 행정동코드는  11650540 입니다.\n"
     ]
    },
    {
     "name": "stdin",
     "output_type": "stream",
     "text": [
      "행정동명을 입력:  방배본동\n"
     ]
    },
    {
     "name": "stdout",
     "output_type": "stream",
     "text": [
      "방배본동 의 행정동코드는  11650590 입니다.\n"
     ]
    },
    {
     "data": {
      "image/png": "[encoded data removed]",
      "text/plain": [
       "<Figure size 640x480 with 1 Axes>"
      ]
     },
     "metadata": {},
     "output_type": "display_data"
    }
   ],
   "source": [
    "dong_name1=input('행정동명을 입력: ')\n",
    "\n",
    "for row in data2:\n",
    "    if row[-1]==dong_name1:\n",
    "        dong_code1=row[1]\n",
    "\n",
    "print(dong_name1, '의 행정동코드는 ', dong_code1, '입니다.')\n",
    "\n",
    "# 비교대상\n",
    "dong_name2=input('행정동명을 입력: ')\n",
    "\n",
    "for row in data2:\n",
    "    if row[-1]==dong_name2:\n",
    "        dong_code2=row[1]\n",
    "\n",
    "print(dong_name2, '의 행정동코드는 ', dong_code2, '입니다.')\n",
    "\n",
    "import matplotlib.pyplot as plt\n",
    "\n",
    "population1 = [0 for i in range(24)]\n",
    "population2 = [0 for i in range(24)]\n",
    "\n",
    "for row in data1: \n",
    "    # 첫번째 행정동\n",
    "    if row[2] == dong_code1: \n",
    "        time, p = row[1], row[3]\n",
    "        population1[time] += p\n",
    "        \n",
    "    # 비교할 행정동\n",
    "    elif row[2] == dong_code2: \n",
    "        time, p = row[1], row[3]\n",
    "        population2[time] += p\n",
    "\n",
    "population1 = [p/30 for p in population1]\n",
    "population2 = [p/30 for p in population2]\n",
    "\n",
    "plt.rc('font', family='Malgun Gothic')\n",
    "plt.title(dong_name1 + '과 '+dong_name2+' 의 시간대별 평균인구 비교')\n",
    "plt.plot(range(24), population1, color = 'm', label=dong_name1)\n",
    "plt.plot(range(24), population2, color = 'orange', label =dong_name2)\n",
    "plt.legend()\n",
    "plt.xlabel('시간대')\n",
    "plt.ylabel('평균인구수')\n",
    "plt.xticks(range(24), range(24))\n",
    "plt.show()"
   ]
  }
 ],
 "metadata": {
  "kernelspec": {
   "display_name": "Python 3 (ipykernel)",
   "language": "python",
   "name": "python3"
  },
  "language_info": {
   "codemirror_mode": {
    "name": "ipython",
    "version": 3
   },
   "file_extension": ".py",
   "mimetype": "text/x-python",
   "name": "python",
   "nbconvert_exporter": "python",
   "pygments_lexer": "ipython3",
   "version": "3.11.7"
  }
 },
 "nbformat": 4,
 "nbformat_minor": 5
}
